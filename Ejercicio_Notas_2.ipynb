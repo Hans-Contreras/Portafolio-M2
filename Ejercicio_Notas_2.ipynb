{
 "cells": [
  {
   "cell_type": "code",
   "id": "initial_id",
   "metadata": {
    "collapsed": true,
    "ExecuteTime": {
     "end_time": "2025-06-20T13:46:20.335511Z",
     "start_time": "2025-06-20T13:46:20.330492Z"
    }
   },
   "source": [
    "# Paso 1: Definir una lista con al menos 8 calificaciones.\n",
    "calificaciones = [85, 92, 55, 60, 78, 45, 99, 71, 88]\n",
    "\n",
    "# --- Preparamos nuestras variables antes de empezar a recorrer ---\n",
    "total_acumulado = 0\n",
    "aprobados_contador = 0\n",
    "notas_aprobadas = [] # Una lista vacía para guardar las notas que aprueban\n",
    "\n",
    "# Paso 2 y 3: Usar un for para recorrer, calcular el total y aplicar la condición.\n",
    "print(\"--- Procesando calificaciones ---\")\n",
    "for nota in calificaciones:\n",
    "    # Mostramos qué nota estamos procesando en cada vuelta (opcional)\n",
    "    print(f\"Procesando nota: {nota}\")\n",
    "\n",
    "    # Acumulamos el total para el promedio\n",
    "    total_acumulado += nota # Es lo mismo que: total_acumulado = total_acumulado + nota\n",
    "\n",
    "    # Condición para contar los aprobados (nota >= 60)\n",
    "    if nota >= 60:\n",
    "        # Aumentamos el contador de aprobados\n",
    "        aprobados_contador += 1\n",
    "\n",
    "        # Agregamos la nota a nuestra nueva lista de aprobados\n",
    "        notas_aprobadas.append(nota)\n",
    "\n",
    "# --- Una vez terminado el bucle, calculamos y mostramos los resultados ---\n",
    "\n",
    "# Paso 4: Calcular el promedio y mostrar los resultados finales.\n",
    "# El promedio es el total dividido por la cantidad de notas.\n",
    "cantidad_de_notas = len(calificaciones)\n",
    "promedio = total_acumulado / cantidad_de_notas\n",
    "\n",
    "print(\"\\n--- ¡Análisis Completado! ---\")\n",
    "# Usamos :.2f para mostrar el promedio con solo 2 decimales\n",
    "print(f\"Promedio general: {promedio:.2f}\")\n",
    "print(f\"Cantidad de estudiantes aprobados: {aprobados_contador}\")\n",
    "print(f\"Lista de notas aprobadas: {notas_aprobadas}\")"
   ],
   "outputs": [
    {
     "name": "stdout",
     "output_type": "stream",
     "text": [
      "--- Procesando calificaciones ---\n",
      "Procesando nota: 85\n",
      "Procesando nota: 92\n",
      "Procesando nota: 55\n",
      "Procesando nota: 60\n",
      "Procesando nota: 78\n",
      "Procesando nota: 45\n",
      "Procesando nota: 99\n",
      "Procesando nota: 71\n",
      "Procesando nota: 88\n",
      "\n",
      "--- ¡Análisis Completado! ---\n",
      "Promedio general: 74.78\n",
      "Cantidad de estudiantes aprobados: 7\n",
      "Lista de notas aprobadas: [85, 92, 60, 78, 99, 71, 88]\n"
     ]
    }
   ],
   "execution_count": 1
  },
  {
   "metadata": {},
   "cell_type": "code",
   "outputs": [],
   "execution_count": null,
   "source": "",
   "id": "fdf70d7bec9c54d4"
  }
 ],
 "metadata": {
  "kernelspec": {
   "display_name": "Python [conda env:base] *",
   "language": "python",
   "name": "conda-base-py"
  },
  "language_info": {
   "codemirror_mode": {
    "name": "ipython",
    "version": 2
   },
   "file_extension": ".py",
   "mimetype": "text/x-python",
   "name": "python",
   "nbconvert_exporter": "python",
   "pygments_lexer": "ipython2",
   "version": "2.7.6"
  }
 },
 "nbformat": 4,
 "nbformat_minor": 5
}
