{
 "cells": [
  {
   "cell_type": "code",
   "id": "initial_id",
   "metadata": {
    "collapsed": true,
    "ExecuteTime": {
     "end_time": "2025-06-20T13:51:28.949486Z",
     "start_time": "2025-06-20T13:51:28.944851Z"
    }
   },
   "source": [
    "# a) Crea un diccionario con al menos 5 empleados.\n",
    "empleados = {\n",
    "    'emp1': {'nombre': 'Ana', 'edad': 28},\n",
    "    'emp2': {'nombre': 'Luis', 'edad': 35},\n",
    "    'emp3': {'nombre': 'Sofía', 'edad': 25},\n",
    "    'emp4': {'nombre': 'Carlos', 'edad': 41},\n",
    "    'emp5': {'nombre': 'Elena', 'edad': 32}\n",
    "}\n",
    "\n",
    "# Preparamos una lista vacía para los empleados jóvenes.\n",
    "empleados_jovenes = []\n",
    "\n",
    "print(\"--- Empleados mayores de 30 años ---\")\n",
    "\n",
    "# b) Usa un for y .items() para recorrer el diccionario.\n",
    "# 'id_empleado' tomará valores como 'emp1', 'emp2', etc.\n",
    "# 'datos' tomará el diccionario anidado {'nombre':..., 'edad':...}\n",
    "for id_empleado, datos in empleados.items():\n",
    "    # Accedemos a la edad dentro del diccionario anidado 'datos'\n",
    "    edad_empleado = datos['edad']\n",
    "    nombre_empleado = datos['nombre']\n",
    "\n",
    "    # 1) Imprime solo los empleados mayores de 30 años.\n",
    "    if edad_empleado > 30:\n",
    "        print(f\"- {nombre_empleado} tiene {edad_empleado} años.\")\n",
    "\n",
    "    # 2) Genera una lista con los nombres de quienes tienen menos de 30.\n",
    "    if edad_empleado < 30:\n",
    "        empleados_jovenes.append(nombre_empleado)\n",
    "\n",
    "# --- Resultados Finales ---\n",
    "\n",
    "# 3) Indica cuántos empleados hay en total.\n",
    "total_empleados = len(empleados)\n",
    "\n",
    "print(\"\\n--- Resumen ---\")\n",
    "print(f\"Lista de empleados menores de 30 años: {empleados_jovenes}\")\n",
    "print(f\"Número total de empleados: {total_empleados}\")"
   ],
   "outputs": [
    {
     "name": "stdout",
     "output_type": "stream",
     "text": [
      "--- Empleados mayores de 30 años ---\n",
      "- Luis tiene 35 años.\n",
      "- Carlos tiene 41 años.\n",
      "- Elena tiene 32 años.\n",
      "\n",
      "--- Resumen ---\n",
      "Lista de empleados menores de 30 años: ['Ana', 'Sofía']\n",
      "Número total de empleados: 5\n"
     ]
    }
   ],
   "execution_count": 1
  },
  {
   "metadata": {},
   "cell_type": "code",
   "outputs": [],
   "execution_count": null,
   "source": "",
   "id": "7d234cb7e66e6ef1"
  }
 ],
 "metadata": {
  "kernelspec": {
   "display_name": "Python [conda env:base] *",
   "language": "python",
   "name": "conda-base-py"
  },
  "language_info": {
   "codemirror_mode": {
    "name": "ipython",
    "version": 2
   },
   "file_extension": ".py",
   "mimetype": "text/x-python",
   "name": "python",
   "nbconvert_exporter": "python",
   "pygments_lexer": "ipython2",
   "version": "2.7.6"
  }
 },
 "nbformat": 4,
 "nbformat_minor": 5
}
