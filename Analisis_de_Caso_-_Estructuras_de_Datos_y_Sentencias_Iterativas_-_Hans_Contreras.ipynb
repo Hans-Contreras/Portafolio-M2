{
 "cells": [
  {
   "metadata": {},
   "cell_type": "markdown",
   "source": [
    "Reporte de Análisis de Caso: Estructuras de Datos y Sentencias Iterativas\n",
    "==============================================================================\n",
    "Optimización de Estructuras de Datos para el Sistema de Análisis Financiero"
   ],
   "id": "afb844bf87d43065"
  },
  {
   "metadata": {},
   "cell_type": "markdown",
   "source": [
    "<p style=\"font-size:18px; color:green;\">1. Análisis de la Estructura de Datos Utilizada.</p>\n",
    "El código base proporcionado utiliza listas y diccionarios para la gestión de datos financieros.\n",
    "\n",
    "Ventajas de las Estructuras Actuales\n",
    "\n",
    "**Listas:** Son una opción natural y sencilla para almacenar una secuencia de transacciones.\n",
    "Sus ventajas principales en este contexto son:\n",
    "* **Orden:** Mantienen el orden de inserción, lo cual puede ser importante para análisis cronológicos.\n",
    "* **Iteración Simple:** Son fáciles de recorrer con un bucle for, como se ve en las funciones _calcular_total_ingresos_ y _filtrar_ingresos_altos_.\n",
    "* **Flexibilidad:** Permiten elementos duplicados, lo cual es realista ya que pueden existir múltiples ingresos con el mismo valor.\n",
    "\n",
    "**Diccionarios:** Son ideales para la función _agrupar_por_categoria_.\n",
    "Sus ventajas son:\n",
    "* **Acceso Rápido por Clave:** Permiten agrupar ingresos bajo una categoría (la clave) y acceder a ellos de forma muy eficiente, sin necesidad de recorrer una lista buscando coincidencias.\n",
    "* **Estructura Lógica:** Representan de forma natural la relación entre una categoría y los ingresos que pertenecen a ella.\n",
    "\n",
    "Limitaciones y Mejoras Posibles\n",
    "* **Listas Paralelas:** La mayor limitación en el código original es el uso de dos listas separadas (transacciones y categorias) en la función _agrupar_por_categoria_. Este enfoque es frágil, ya que depende de que ambas listas estén perfectamente sincronizadas en orden y tamaño. Un error en una de ellas podría llevar a una categorización incorrecta.\n",
    "* **Búsqueda ineficiente**: Si necesitáramos verificar si una categoría específica ya existe múltiples veces dentro de una lista, recorrerla sería ineficiente."
   ],
   "id": "387cf48291a23efe"
  },
  {
   "metadata": {},
   "cell_type": "markdown",
   "source": [
    "<p style=\"font-size:18px; color:green;\">2. Optimización y Refactorización del Código.</p>\n",
    "Se ha refactorizado el código para incorporar optimizaciones en las sentencias iterativas y mejorar la estructura de los datos de entrada."
   ],
   "id": "76e0b21b5ef55ff3"
  },
  {
   "metadata": {
    "ExecuteTime": {
     "end_time": "2025-06-20T12:21:20.440336Z",
     "start_time": "2025-06-20T12:21:20.436220Z"
    }
   },
   "cell_type": "code",
   "source": [
    "import collections\n",
    "\n",
    "class AnalizadorFinancieroOptimizado:\n",
    "    \"\"\"\n",
    "    Clase refactorizada con optimizaciones y un manejo de datos más robusto.\n",
    "    \"\"\"\n",
    "\n",
    "    def calcular_total_ingresos(self, transacciones: list[float]) -> float:\n",
    "        \"\"\"\n",
    "        Calcula el total de ingresos de forma optimizada usando sum().\n",
    "        \"\"\"\n",
    "        return sum(transacciones)\n",
    "\n",
    "    def filtrar_ingresos_altos(self, transacciones: list[float], umbral: float) -> list[float]:\n",
    "        \"\"\"\n",
    "        Filtra ingresos altos usando una comprensión de listas para mayor eficiencia.\n",
    "        \"\"\"\n",
    "        return [ingreso for ingreso in transacciones if ingreso > umbral]\n",
    "\n",
    "    def agrupar_por_categoria(self, transacciones_con_categoria: list[tuple]) -> dict:\n",
    "        \"\"\"\n",
    "        Agrupa ingresos por categoría desde una única lista de tuplas.\n",
    "        Usa collections.defaultdict para simplificar la lógica de agrupación.\n",
    "        \"\"\"\n",
    "        agrupado = collections.defaultdict(list)\n",
    "        for categoria, ingreso in transacciones_con_categoria:\n",
    "            agrupado[categoria].append(ingreso)\n",
    "        return dict(agrupado)\n",
    "\n",
    "    def obtener_categorias_unicas(self, transacciones_con_categoria: list[tuple]) -> set:\n",
    "        \"\"\"\n",
    "        Utiliza un conjunto (set) para extraer eficientemente las categorías únicas.\n",
    "        \"\"\"\n",
    "        return {categoria for categoria, ingreso in transacciones_con_categoria}\n"
   ],
   "id": "58721cecc434029e",
   "outputs": [],
   "execution_count": 1
  },
  {
   "metadata": {},
   "cell_type": "markdown",
   "source": [
    "Justificación de la Optimización\n",
    "* _calcular_total_ingresos_: Se reemplazó el bucle _for_ manual por la función nativa _sum()_.  Es más rápida, concisa y legible.\n",
    "* _filtrar_ingresos_altos_: Se implementó una comprensión de listas, que es la forma \"Pythonica\" de crear una lista a partir de un iterable.  Es más eficiente y reduce el código a una sola línea.\n",
    "* _agrupar_por_categoria_: Se modificó la entrada para que acepte una lista de tuplas _(categoria, ingreso)_. Esto elimina el problema de las listas paralelas. Además, se usó _collections.defaultdict(list)_, que crea automáticamente una lista vacía para una nueva clave, simplificando el código al eliminar la necesidad del if/else."
   ],
   "id": "6145fc0b67e556aa"
  },
  {
   "metadata": {},
   "cell_type": "markdown",
   "source": [
    "<p style=\"font-size:18px; color:green;\">3. Aplicación de Estructuras de Datos Avanzadas (Conjuntos).</p>\n",
    "Se investigó el uso de conjuntos (set) para optimizar la verificación de categorías únicas.\n",
    "\n",
    "* **Beneficios:** Los conjuntos en Python no permiten elementos duplicados y ofrecen una verificación de pertenencia casi instantánea. Esto es mucho más rápido que buscar en una lista.\n",
    "* **Implementación:** Se añadió un nuevo método _obtener_categorias_unicas_ que utiliza una comprensión de conjuntos para extraer y devolver todas las categorías únicas de forma muy eficiente."
   ],
   "id": "b6809d59d5b18e2a"
  },
  {
   "metadata": {},
   "cell_type": "markdown",
   "source": [
    "<p style=\"font-size:18px; color:green;\">4. Implementación de Pruebas.</p>\n",
    "\n",
    "Se creó una serie de pruebas para validar el correcto funcionamiento de cada función optimizada.\n",
    "\n",
    "Datos y Casos de Prueba\n",
    "1. Datos de Prueba Generales:\n",
    "    * _lista_ingresos = [150.5, 800.0, 45.0, 950.2, 300.0]_\n",
    "    * _trans_con_categorias = [('Ventas', 2500), ('Marketing', 800), ('Ventas', 1200), ('Soporte', 500), ('Marketing', 950)]_\n",
    "2. Prueba para _calcular_total_ingresos_:\n",
    "    * Entrada: _lista_ingresos_\n",
    "    * Resultado Esperado: _2245.7_\n",
    "3. Prueba para _filtrar_ingresos_altos_:\n",
    "    * Entrada: _lista_ingresos, umbral = 500_\n",
    "    * Resultado Esperado: _[800.0, 950.2]_\n",
    "4. Prueba para agrupar_por_categoria:\n",
    "    * Entrada: _trans_con_categorias_\n",
    "    * Resultado Esperado: _{'Ventas': [2500, 1200], 'Marketing': [800, 950], 'Soporte': [500]_}\n",
    "5. Prueba para _obtener_categorias_unicas_:\n",
    "    * Entrada: _trans_con_categorias_\n",
    "    * Resultado Esperado: _{'Ventas', 'Marketing', 'Soporte'}_ (el orden no importa)"
   ],
   "id": "d97435d52e177d2c"
  },
  {
   "metadata": {},
   "cell_type": "markdown",
   "source": "Código de Pruebas Implementado:",
   "id": "1c245697fcea5995"
  },
  {
   "metadata": {
    "ExecuteTime": {
     "end_time": "2025-06-20T12:53:05.198895Z",
     "start_time": "2025-06-20T12:53:05.194883Z"
    }
   },
   "cell_type": "code",
   "source": [
    "# --- Bloque de Pruebas ---\n",
    "if __name__ == \"__main__\":\n",
    "    analizador = AnalizadorFinancieroOptimizado()\n",
    "    print(\"Ejecutando pruebas...\")\n",
    "\n",
    "    # Datos\n",
    "    lista_ingresos = [150.5, 800.0, 45.0, 950.2, 300.0]\n",
    "    trans_con_categorias = [('Ventas', 2500), ('Marketing', 800), ('Ventas', 1200), ('Soporte', 500), ('Marketing', 950)]\n",
    "\n",
    "    # Prueba 1\n",
    "    total_calculado = analizador.calcular_total_ingresos(lista_ingresos)\n",
    "    assert total_calculado == 2245.7, f\"Error en calcular_total_ingresos\"\n",
    "    print(\"Prueba 1 (total ingresos): OK\")\n",
    "\n",
    "    # Prueba 2\n",
    "    altos_calculado = analizador.filtrar_ingresos_altos(lista_ingresos, 500)\n",
    "    assert altos_calculado == [800.0, 950.2], f\"Error en filtrar_ingresos_altos\"\n",
    "    print(\"Prueba 2 (filtrar altos): OK\")\n",
    "\n",
    "    # Prueba 3\n",
    "    agrupado_calculado = analizador.agrupar_por_categoria(trans_con_categorias)\n",
    "    assert agrupado_calculado == {'Ventas': [2500, 1200], 'Marketing': [800, 950], 'Soporte': [500]}, f\"Error en agrupar_por_categoria\"\n",
    "    print(\"Prueba 3 (agrupar): OK\")\n",
    "\n",
    "    # Prueba 4\n",
    "    unicas_calculado = analizador.obtener_categorias_unicas(trans_con_categorias)\n",
    "    assert unicas_calculado == {'Ventas', 'Marketing', 'Soporte'}, f\"Error en obtener_categorias_unicas\"\n",
    "    print(\"Prueba 4 (categorías únicas): OK\")\n",
    "\n",
    "    print(\"\\n¡Todas las pruebas pasaron exitosamente!\")"
   ],
   "id": "9a6537e40f8883c6",
   "outputs": [
    {
     "name": "stdout",
     "output_type": "stream",
     "text": [
      "Ejecutando pruebas...\n",
      "Prueba 1 (total ingresos): OK\n",
      "Prueba 2 (filtrar altos): OK\n",
      "Prueba 3 (agrupar): OK\n",
      "Prueba 4 (categorías únicas): OK\n",
      "\n",
      "¡Todas las pruebas pasaron exitosamente!\n"
     ]
    }
   ],
   "execution_count": 2
  },
  {
   "metadata": {},
   "cell_type": "markdown",
   "source": [
    "<p style=\"font-size:18px; color:green;\">5. Reflexión sobre la Experiencia.</p>\n",
    "\n",
    "Esta experiencia de optimización demuestra que un código funcional no siempre es un código óptimo. La refactorización inicial, cambiando la estructura de datos de entrada de dos listas paralelas a una única lista de tuplas, fue el cambio más impactante, ya que eliminó una fuente importante de posibles errores y mejoró la robustez del sistema. La posterior aplicación de comprensiones de listas/conjuntos y funciones nativas como _sum()_ no solo redujo la cantidad de líneas de código, sino que también mejoró su legibilidad y eficiencia. Finalmente, la implementación de pruebas permitió asegurar que las optimizaciones no introdujeron errores y que la lógica del negocio se mantiene intacta."
   ],
   "id": "3977bd5bbb273811"
  },
  {
   "metadata": {},
   "cell_type": "code",
   "outputs": [],
   "execution_count": null,
   "source": "",
   "id": "15e896ae64c8eb27"
  }
 ],
 "metadata": {
  "kernelspec": {
   "display_name": "Python [conda env:base] *",
   "language": "python",
   "name": "conda-base-py"
  },
  "language_info": {
   "codemirror_mode": {
    "name": "ipython",
    "version": 2
   },
   "file_extension": ".py",
   "mimetype": "text/x-python",
   "name": "python",
   "nbconvert_exporter": "python",
   "pygments_lexer": "ipython2",
   "version": "2.7.6"
  }
 },
 "nbformat": 4,
 "nbformat_minor": 5
}
