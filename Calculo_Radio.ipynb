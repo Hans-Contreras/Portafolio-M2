{
 "cells": [
  {
   "cell_type": "code",
   "id": "initial_id",
   "metadata": {
    "collapsed": true,
    "ExecuteTime": {
     "end_time": "2025-06-20T13:57:17.637214Z",
     "start_time": "2025-06-20T13:57:17.632150Z"
    }
   },
   "source": [
    "import math # Necesitaremos la librería math para pi y la raíz cuadrada\n",
    "\n",
    "class Circulo:\n",
    "    def __init__(self, radio: float):\n",
    "        \"\"\"Constructor principal: crea un círculo a partir de su radio.\"\"\"\n",
    "        # Se asegura de que el radio no sea negativo\n",
    "        if radio < 0:\n",
    "            raise ValueError(\"El radio no puede ser negativo.\")\n",
    "        self.r = radio\n",
    "\n",
    "    @classmethod\n",
    "    def from_diametro(cls, diametro: float):\n",
    "        \"\"\"\n",
    "        Constructor alternativo: crea un círculo a partir de su diámetro.\n",
    "        'cls' se refiere a la clase misma (Circulo).\n",
    "        \"\"\"\n",
    "        print(f\"\\nCreando círculo desde el diámetro ({diametro})...\")\n",
    "        radio_calculado = diametro / 2\n",
    "        # Retorna una nueva instancia de la clase Circulo con el radio calculado\n",
    "        return cls(radio_calculado)\n",
    "\n",
    "    @classmethod\n",
    "    def from_area(cls, area: float):\n",
    "        \"\"\"\n",
    "        Constructor alternativo: crea un círculo a partir de su área.\n",
    "        La fórmula del radio a partir del área es sqrt(area / pi).\n",
    "        \"\"\"\n",
    "        print(f\"\\nCreando círculo desde el área ({area})...\")\n",
    "        radio_calculado = math.sqrt(area / math.pi)\n",
    "        # Retorna una nueva instancia de la clase Circulo con el radio calculado\n",
    "        return cls(radio_calculado)\n",
    "\n",
    "# --- Cómo se usa ---\n",
    "\n",
    "# 1. Creación normal usando el radio (constructor __init__)\n",
    "circulo_normal = Circulo(5)\n",
    "print(f\"Radio del círculo normal: {circulo_normal.r}\")\n",
    "\n",
    "# 2. Creación usando la FÓRMULA del diámetro\n",
    "# No llamamos a Circulo(), sino al nuevo método from_diametro\n",
    "circulo_desde_diametro = Circulo.from_diametro(10)\n",
    "print(f\"El radio del círculo creado desde el diámetro es: {circulo_desde_diametro.r}\")\n",
    "\n",
    "# 3. Creación usando la FÓRMULA del área\n",
    "circulo_desde_area = Circulo.from_area(78.54)\n",
    "# La salida del radio será aproximadamente 5.0\n",
    "print(f\"El radio del círculo creado desde el área es: {circulo_desde_area.r:.2f}\")"
   ],
   "outputs": [
    {
     "name": "stdout",
     "output_type": "stream",
     "text": [
      "Radio del círculo normal: 5\n",
      "\n",
      "Creando círculo desde el diámetro (10)...\n",
      "El radio del círculo creado desde el diámetro es: 5.0\n",
      "\n",
      "Creando círculo desde el área (78.54)...\n",
      "El radio del círculo creado desde el área es: 5.00\n"
     ]
    }
   ],
   "execution_count": 1
  },
  {
   "metadata": {},
   "cell_type": "code",
   "outputs": [],
   "execution_count": null,
   "source": "",
   "id": "880f54cf4fe27352"
  }
 ],
 "metadata": {
  "kernelspec": {
   "display_name": "Python [conda env:base] *",
   "language": "python",
   "name": "conda-base-py"
  },
  "language_info": {
   "codemirror_mode": {
    "name": "ipython",
    "version": 2
   },
   "file_extension": ".py",
   "mimetype": "text/x-python",
   "name": "python",
   "nbconvert_exporter": "python",
   "pygments_lexer": "ipython2",
   "version": "2.7.6"
  }
 },
 "nbformat": 4,
 "nbformat_minor": 5
}
