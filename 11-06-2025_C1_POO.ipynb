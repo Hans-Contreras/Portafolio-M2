{
 "cells": [
  {
   "metadata": {},
   "cell_type": "markdown",
   "source": "**Creación de clases y objetos**",
   "id": "c993c84fa885f001"
  },
  {
   "metadata": {
    "ExecuteTime": {
     "end_time": "2025-06-20T17:17:42.910075Z",
     "start_time": "2025-06-20T17:17:42.905895Z"
    }
   },
   "cell_type": "code",
   "source": [
    "\"\"\"Creación de la clase Persona\n",
    "    - Tiene un atributo de clase (aplicable a todos los objetos) - Especie\n",
    "    - Tiene un método saludar() y un método que inicializa cada objeto\n",
    "\"\"\"\n",
    "class Persona:\n",
    "    \"\"\"Acá va la creación del atributo de clase (aplicable a todos los objetos)\"\"\"\n",
    "    # Un objeto no solo tiene datos, también tiene funciones las que se definen como tales\n",
    "    especie = \"Humano\"\n",
    "    cantidad_brazos = 2\n",
    "    cantidad_piernas = 2\n",
    "\n",
    "    def __init__(self, nombre, edad):\n",
    "        \"\"\"\n",
    "        self.nombre = nombre\n",
    "        self.edad = edad\n",
    "        \"\"\"\n",
    "        self.n = nombre\n",
    "        self.e= edad\n",
    "\n",
    "    \"\"\" Método (función de la clase) que hace una acción determinada\"\"\"\n",
    "    def saludar(self):\n",
    "        print(F\"Hola, me llamo {self.n} y tengo {self.e} años.\")\n",
    "        #print(F\"Hola, me llamo {self.nombre} y tengo {self.edad} años.\")\n",
    "\n",
    "persona1 = Persona(\"Hans\", 37)\n",
    "print(F\"{persona1.saludar()} - {persona1.especie}\")"
   ],
   "id": "6125559441305f34",
   "outputs": [
    {
     "name": "stdout",
     "output_type": "stream",
     "text": [
      "Hola, me llamo Hans y tengo 37 años.\n",
      "None - Humano\n"
     ]
    }
   ],
   "execution_count": 1
  },
  {
   "metadata": {},
   "cell_type": "code",
   "outputs": [],
   "execution_count": null,
   "source": "",
   "id": "8558e3f1ecec929d"
  }
 ],
 "metadata": {
  "kernelspec": {
   "display_name": "Python [conda env:base] *",
   "language": "python",
   "name": "conda-base-py"
  },
  "language_info": {
   "codemirror_mode": {
    "name": "ipython",
    "version": 2
   },
   "file_extension": ".py",
   "mimetype": "text/x-python",
   "name": "python",
   "nbconvert_exporter": "python",
   "pygments_lexer": "ipython2",
   "version": "2.7.6"
  }
 },
 "nbformat": 4,
 "nbformat_minor": 5
}
