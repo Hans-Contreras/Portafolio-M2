{
 "cells": [
  {
   "cell_type": "code",
   "id": "initial_id",
   "metadata": {
    "collapsed": true,
    "ExecuteTime": {
     "end_time": "2025-06-10T02:10:46.097967Z",
     "start_time": "2025-06-10T02:10:46.092750Z"
    }
   },
   "source": [
    "def crear_diccionario_empleados():\n",
    "    \"\"\" Paso 1: Define y devuelve un diccionario anidado de empleados.\"\"\"\n",
    "    print(\"Paso 1: Creando la base de datos de empleados...\")\n",
    "    empleados = {\n",
    "        'emp1': {'nombre': 'Ana', 'edad': 28},\n",
    "        'emp2': {'nombre': 'Luis', 'edad': 35},\n",
    "        'emp3': {'nombre': 'Sofía', 'edad': 25},\n",
    "        'emp4': {'nombre': 'Carlos', 'edad': 41},\n",
    "        'emp5': {'nombre': 'Elena', 'edad': 32},\n",
    "        'emp6': {'nombre': 'Javier', 'edad': 29}\n",
    "    }\n",
    "    return empleados\n",
    "\n",
    "def procesar_empleados(diccionario_empleados):\n",
    "    \"\"\" Paso 2: Recorre el diccionario, filtra por edad y devuelve dos listas. \"\"\"\n",
    "    print(\"Paso 2: Procesando y filtrando empleados por edad...\")\n",
    "\n",
    "    # Preparamos listas vacías para guardar los resultados del filtro.\n",
    "    mayores_de_30 = []\n",
    "    menores_de_30 = []\n",
    "\n",
    "    for id_empleado, datos in diccionario_empleados.items():\n",
    "        edad_empleado = datos['edad']\n",
    "        nombre_empleado = datos['nombre']\n",
    "\n",
    "        # Filtramos según la edad\n",
    "        if edad_empleado > 30:\n",
    "            # Guardamos el diccionario completo de los mayores para tener todos sus datos\n",
    "            mayores_de_30.append(datos)\n",
    "        elif edad_empleado < 30:\n",
    "            # Guardamos solo el nombre de los menores, como pide el ejercicio\n",
    "            menores_de_30.append(nombre_empleado)\n",
    "\n",
    "    return mayores_de_30, menores_de_30\n",
    "\n",
    "def mostrar_resultados(diccionario_empleados, lista_mayores, lista_jovenes):\n",
    "    \"\"\" Paso 3: Muestra todos los resultados finales de forma organizada. \"\"\"\n",
    "    print(\"\\n--- ¡Resultados del Análisis! ---\")\n",
    "\n",
    "    # 1) Imprime los empleados mayores de 30 años.\n",
    "    print(\"\\n--- Empleados mayores de 30 años ---\")\n",
    "    if lista_mayores: # Verifica que la lista no esté vacía\n",
    "        for empleado in lista_mayores:\n",
    "            print(f\"- {empleado['nombre']} tiene {empleado['edad']} años.\")\n",
    "    else:\n",
    "        print(\"No se encontraron empleados mayores de 30 años.\")\n",
    "\n",
    "    # Imprime el resto de la información\n",
    "    print(\"\\n--- Resumen General ---\")\n",
    "\n",
    "    # 2) Muestra la lista con los nombres de quienes tienen menos de 30.\n",
    "    print(f\"Lista de empleados menores de 30 años: {lista_jovenes}\")\n",
    "\n",
    "    # 3) Indica cuántos empleados hay en total.\n",
    "    total_empleados = len(diccionario_empleados)\n",
    "    print(f\"Número total de empleados: {total_empleados}\")\n",
    "\n",
    "def principal():\n",
    "    \"\"\" Función principal que orquesta la ejecución de las demás funciones en orden. \"\"\"\n",
    "    print(\"--- Iniciando programa de gestión de empleados ---\")\n",
    "\n",
    "    # Llama a la primera función para obtener los datos\n",
    "    datos_empleados = crear_diccionario_empleados()\n",
    "\n",
    "    # Pasa esos datos a la segunda función para que los procese\n",
    "    # y recibe los resultados en dos variables nuevas.\n",
    "    empleados_mayores, empleados_jovenes = procesar_empleados(datos_empleados)\n",
    "\n",
    "    # Finalmente, pasa todos los datos relevantes a la función que muestra los resultados\n",
    "    mostrar_resultados(datos_empleados, empleados_mayores, empleados_jovenes)\n",
    "\n",
    "    print(\"\\n--- Programa finalizado ---\")\n",
    "\n",
    "\n",
    "# --- Punto de entrada del programa ---\n",
    "# Esta es una convención en Python para indicar dónde comienza la ejecución.\n",
    "if __name__ == \"__main__\":\n",
    "    principal()"
   ],
   "outputs": [
    {
     "name": "stdout",
     "output_type": "stream",
     "text": [
      "--- Iniciando programa de gestión de empleados ---\n",
      "Paso 1: Creando la base de datos de empleados...\n",
      "Paso 2: Procesando y filtrando empleados por edad...\n",
      "\n",
      "--- ¡Resultados del Análisis! ---\n",
      "\n",
      "--- Empleados mayores de 30 años ---\n",
      "- Luis tiene 35 años.\n",
      "- Carlos tiene 41 años.\n",
      "- Elena tiene 32 años.\n",
      "\n",
      "--- Resumen General ---\n",
      "Lista de empleados menores de 30 años: ['Ana', 'Sofía', 'Javier']\n",
      "Número total de empleados: 6\n",
      "\n",
      "--- Programa finalizado ---\n"
     ]
    }
   ],
   "execution_count": 2
  },
  {
   "metadata": {},
   "cell_type": "code",
   "outputs": [],
   "execution_count": null,
   "source": "",
   "id": "4d106f31be345e2a"
  }
 ],
 "metadata": {
  "kernelspec": {
   "display_name": "Python [conda env:base] *",
   "language": "python",
   "name": "conda-base-py"
  },
  "language_info": {
   "codemirror_mode": {
    "name": "ipython",
    "version": 2
   },
   "file_extension": ".py",
   "mimetype": "text/x-python",
   "name": "python",
   "nbconvert_exporter": "python",
   "pygments_lexer": "ipython2",
   "version": "2.7.6"
  }
 },
 "nbformat": 4,
 "nbformat_minor": 5
}
