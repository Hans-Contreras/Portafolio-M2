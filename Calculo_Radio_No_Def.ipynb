{
 "cells": [
  {
   "cell_type": "code",
   "id": "initial_id",
   "metadata": {
    "collapsed": true,
    "ExecuteTime": {
     "end_time": "2025-06-20T13:57:23.852185Z",
     "start_time": "2025-06-20T13:57:23.399444Z"
    }
   },
   "source": [
    "import sympy\n",
    "\n",
    "# Definimos 'x' como un símbolo matemático, no como una variable con un valor.\n",
    "x = sympy.symbols('x')\n",
    "n = sympy.symbols('n')\n",
    "\n",
    "# Modificamos la clase para que pueda calcular el área simbólicamente\n",
    "class Circulo:\n",
    "    def __init__(self, radio):\n",
    "        # Ahora el radio puede ser un número o un símbolo\n",
    "        self.r = radio\n",
    "\n",
    "    def area(self):\n",
    "        \"\"\"Calcula el área. Si el radio es un símbolo, el área también lo será.\"\"\"\n",
    "        # Usamos sympy.pi para que el resultado sea simbólico\n",
    "        return sympy.pi * self.r**2\n",
    "\n",
    "# --- Cómo se usa ---\n",
    "\n",
    "# 1. Creamos un círculo cuyo radio es el SÍMBOLO 'x'\n",
    "circulo_simbolico_x = Circulo(x)\n",
    "print(f\"\\nEl radio del círculo simbólico es: {circulo_simbolico_x.r}\")\n",
    "\n",
    "# 2. Calculamos su área. El resultado no es un número, ¡es una fórmula!\n",
    "area_simbolica = circulo_simbolico_x.area()\n",
    "print(f\"La fórmula del área para un radio 'x' es: {area_simbolica}\")\n",
    "\n",
    "# 3. Creamos otro círculo con radio 'n'\n",
    "circulo_simbolico_n = Circulo(n)\n",
    "print(f\"\\nEl radio del otro círculo simbólico es: {circulo_simbolico_n.r}\")\n",
    "print(f\"La fórmula del área para un radio 'n' es: {circulo_simbolico_n.area()}\")\n",
    "\n",
    "\n",
    "# Lo más potente: podemos evaluar la fórmula más tarde.\n",
    "# ¿Cuál es el área si x = 5?\n",
    "area_numerica = area_simbolica.subs(x, 5)\n",
    "print(f\"\\nSi x=5, el área es = {area_numerica.evalf():.2f}\") # evalf() da el valor numérico"
   ],
   "outputs": [
    {
     "name": "stdout",
     "output_type": "stream",
     "text": [
      "\n",
      "El radio del círculo simbólico es: x\n",
      "La fórmula del área para un radio 'x' es: pi*x**2\n",
      "\n",
      "El radio del otro círculo simbólico es: n\n",
      "La fórmula del área para un radio 'n' es: pi*n**2\n",
      "\n",
      "Si x=5, el área es = 78.54\n"
     ]
    }
   ],
   "execution_count": 1
  },
  {
   "metadata": {},
   "cell_type": "code",
   "outputs": [],
   "execution_count": null,
   "source": "",
   "id": "f3ea429faf72bd6e"
  }
 ],
 "metadata": {
  "kernelspec": {
   "display_name": "Python [conda env:base] *",
   "language": "python",
   "name": "conda-base-py"
  },
  "language_info": {
   "codemirror_mode": {
    "name": "ipython",
    "version": 2
   },
   "file_extension": ".py",
   "mimetype": "text/x-python",
   "name": "python",
   "nbconvert_exporter": "python",
   "pygments_lexer": "ipython2",
   "version": "2.7.6"
  }
 },
 "nbformat": 4,
 "nbformat_minor": 5
}
