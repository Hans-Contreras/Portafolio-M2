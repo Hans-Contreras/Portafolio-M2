{
 "cells": [
  {
   "cell_type": "code",
   "id": "initial_id",
   "metadata": {
    "collapsed": true,
    "ExecuteTime": {
     "end_time": "2025-06-20T11:50:00.279687Z",
     "start_time": "2025-06-20T11:50:00.275687Z"
    }
   },
   "source": [
    "class Circulo:\n",
    "    def __init__(self, radio: float):\n",
    "        self.r = radio\n",
    "\n",
    "objeto_circulo = Circulo(5) #__init__\n",
    "print(F\"El radio es = {objeto_circulo.r}\")  #objeto circulo\n"
   ],
   "outputs": [
    {
     "name": "stdout",
     "output_type": "stream",
     "text": [
      "El radio es = 5\n"
     ]
    }
   ],
   "execution_count": 1
  },
  {
   "metadata": {
    "ExecuteTime": {
     "end_time": "2025-06-20T11:50:01.994642Z",
     "start_time": "2025-06-20T11:50:01.991514Z"
    }
   },
   "cell_type": "code",
   "source": [
    "class Circulo:\n",
    "    def __init__(self, radio):\n",
    "        self.x = radio\n",
    "\n",
    "objeto_circulo = Circulo(\"99\") #__init__\n",
    "print(F\"El radio es = {objeto_circulo.x}\")  #objeto circulo\n"
   ],
   "id": "295bc42cc704ed7",
   "outputs": [
    {
     "name": "stdout",
     "output_type": "stream",
     "text": [
      "El radio es = 99\n"
     ]
    }
   ],
   "execution_count": 2
  },
  {
   "metadata": {
    "ExecuteTime": {
     "end_time": "2025-06-20T11:50:05.027072Z",
     "start_time": "2025-06-20T11:50:05.024346Z"
    }
   },
   "cell_type": "code",
   "source": [
    "class Cuenta:\n",
    "    def __init__(self, saldo: float):\n",
    "        self.__s = saldo\n",
    "        #self.nombre = \"Cuenta Bancaria\"\n",
    "\n",
    "        #los métodos get() y los set()\n",
    "        def get_saldo(self):\n",
    "            return self.__s\n",
    "\n",
    "        def set_saldo(self, saldo: float):\n",
    "            #self.__s = saldo\n",
    "            if saldo >= 0:\n",
    "                self.__s = saldo\n",
    "            else:\n",
    "                print(\"Saldo invalido\")\n",
    "\n",
    "cuenta_bancaria = Cuenta(500)\n",
    "#print(cuenta_bancaria.get_saldo(-1))\n",
    "#print(cuenta_bancaria.set_saldo(-1))\n",
    "\n"
   ],
   "id": "7aef44fbda9d2bc8",
   "outputs": [],
   "execution_count": 3
  }
 ],
 "metadata": {
  "kernelspec": {
   "display_name": "Python [conda env:base] *",
   "language": "python",
   "name": "conda-base-py"
  },
  "language_info": {
   "codemirror_mode": {
    "name": "ipython",
    "version": 2
   },
   "file_extension": ".py",
   "mimetype": "text/x-python",
   "name": "python",
   "nbconvert_exporter": "python",
   "pygments_lexer": "ipython2",
   "version": "2.7.6"
  }
 },
 "nbformat": 4,
 "nbformat_minor": 5
}
