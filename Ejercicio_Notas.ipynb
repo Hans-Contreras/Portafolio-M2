{
 "cells": [
  {
   "cell_type": "code",
   "id": "initial_id",
   "metadata": {
    "collapsed": true,
    "ExecuteTime": {
     "end_time": "2025-06-20T13:44:01.149019Z",
     "start_time": "2025-06-20T13:44:01.144407Z"
    }
   },
   "source": [
    "# --- define lista de notas ---\n",
    "notas = [6.0, 3.5, 4.5, 7.0, 5.5, 5.3, 4.5, 7.0, 6.3]\n",
    "total_acumulado = 0\n",
    "contador_aprobados = 0\n",
    "notas_aprobadas = []\n",
    "\n",
    "# --- Bucle ---\n",
    "for i in range(len(notas)):\n",
    "    nota = notas[i]\n",
    "    total_acumulado += nota\n",
    "    if nota >= 6.0:\n",
    "        contador_aprobados += 1\n",
    "        notas_aprobadas.append(nota)\n",
    "\n",
    "# --- Resultados ---\n",
    "promedio = total_acumulado / len(notas)\n",
    "print(f\"El Promedio de notas es: {promedio:.1f}\")\n",
    "print(f\"Cantidad de Aprobados: {contador_aprobados}\")\n",
    "print(f\"Notas: {notas_aprobadas}\")"
   ],
   "outputs": [
    {
     "name": "stdout",
     "output_type": "stream",
     "text": [
      "El Promedio de notas es: 5.5\n",
      "Cantidad de Aprobados: 4\n",
      "Notas: [6.0, 7.0, 7.0, 6.3]\n"
     ]
    }
   ],
   "execution_count": 1
  },
  {
   "metadata": {},
   "cell_type": "code",
   "outputs": [],
   "execution_count": null,
   "source": "",
   "id": "3eae9c85983aff6e"
  }
 ],
 "metadata": {
  "kernelspec": {
   "display_name": "Python [conda env:base] *",
   "language": "python",
   "name": "conda-base-py"
  },
  "language_info": {
   "codemirror_mode": {
    "name": "ipython",
    "version": 2
   },
   "file_extension": ".py",
   "mimetype": "text/x-python",
   "name": "python",
   "nbconvert_exporter": "python",
   "pygments_lexer": "ipython2",
   "version": "2.7.6"
  }
 },
 "nbformat": 4,
 "nbformat_minor": 5
}
